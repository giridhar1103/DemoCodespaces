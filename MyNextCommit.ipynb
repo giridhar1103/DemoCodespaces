{
 "cells": [
  {
   "cell_type": "code",
   "execution_count": null,
   "id": "a80a19c6-4e6e-49a2-b308-b58edcb933c1",
   "metadata": {},
   "outputs": [],
   "source": []
  }
 ],
 "metadata": {
  "kernelspec": {
   "display_name": "",
   "name": ""
  },
  "language_info": {
   "name": ""
  }
 },
 "nbformat": 4,
 "nbformat_minor": 5
}
